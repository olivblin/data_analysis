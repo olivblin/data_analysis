{
  "cells": [
    {
      "cell_type": "markdown",
      "metadata": {
        "id": "bri_pAriNFqN"
      },
      "source": [
        "**Цель работы:**\n",
        "\n",
        "Осуществить предварительную обработку данных csv-файла, выявить и устранить проблемы в этих данных."
      ]
    },
    {
      "cell_type": "markdown",
      "metadata": {
        "id": "r_e-GeJmgZ8l"
      },
      "source": [
        "# Загрузка набора данных"
      ]
    },
    {
      "cell_type": "markdown",
      "metadata": {
        "id": "eeq9ZAbSguQS"
      },
      "source": [
        "### Описание предметной области"
      ]
    },
    {
      "cell_type": "markdown",
      "metadata": {},
      "source": [
        "Данные пользовательских сессии магазина:\n",
        "1. уникальный идентификатор пользователя\n",
        "2. страна пользователя\n",
        "3. устройство пользователя\n",
        "4. идентификатор рекламного источника, из которого пришел пользователь\n",
        "5. дата и время начала сессии\n",
        "6. дата и время окончания сессии"
      ]
    },
    {
      "cell_type": "markdown",
      "metadata": {
        "id": "XHbH8zNIg0Ib"
      },
      "source": [
        "Вариант №6\n",
        "\n",
        "Набор данных: visits.csv\n",
        "\n",
        "Атрибуты: dtypes – тип значений в столбцах,\n",
        "columns – список с названиями столбцов\n",
        "shape – размер таблицы, содержит кортеж из количества строк и столбцов.\n"
      ]
    },
    {
      "cell_type": "markdown",
      "metadata": {
        "id": "Lwin9ia7hT1i"
      },
      "source": [
        "### 1.Чтение файла (набора данных)"
      ]
    },
    {
      "cell_type": "markdown",
      "metadata": {},
      "source": [
        "Прописываю разделитель \";\""
      ]
    },
    {
      "cell_type": "code",
      "execution_count": 5,
      "metadata": {
        "id": "a5dYQO5YhOYa"
      },
      "outputs": [],
      "source": [
        "import pandas as pd\n",
        "df = pd.read_csv('C:/Users/User/Documents/Анализ данных/visits.csv', sep=';')"
      ]
    },
    {
      "cell_type": "markdown",
      "metadata": {
        "id": "p82p53SvhjLN"
      },
      "source": [
        "### 2. Обзор данных"
      ]
    },
    {
      "cell_type": "markdown",
      "metadata": {
        "id": "eAYzXaLrh-qh"
      },
      "source": [
        "2.1 Вывод первых 20 строк с помощью метода head."
      ]
    },
    {
      "cell_type": "code",
      "execution_count": 6,
      "metadata": {
        "id": "7yMo3VZ_hotx"
      },
      "outputs": [
        {
          "data": {
            "text/html": [
              "<div>\n",
              "<style scoped>\n",
              "    .dataframe tbody tr th:only-of-type {\n",
              "        vertical-align: middle;\n",
              "    }\n",
              "\n",
              "    .dataframe tbody tr th {\n",
              "        vertical-align: top;\n",
              "    }\n",
              "\n",
              "    .dataframe thead th {\n",
              "        text-align: right;\n",
              "    }\n",
              "</style>\n",
              "<table border=\"1\" class=\"dataframe\">\n",
              "  <thead>\n",
              "    <tr style=\"text-align: right;\">\n",
              "      <th></th>\n",
              "      <th>User_Id</th>\n",
              "      <th>Region</th>\n",
              "      <th>Device</th>\n",
              "      <th>Channel</th>\n",
              "      <th>Session_Start</th>\n",
              "      <th>SESSION_End</th>\n",
              "    </tr>\n",
              "  </thead>\n",
              "  <tbody>\n",
              "    <tr>\n",
              "      <th>0</th>\n",
              "      <td>9,81449E+11</td>\n",
              "      <td>United States</td>\n",
              "      <td>iPhone</td>\n",
              "      <td>organic</td>\n",
              "      <td>01.05.2019 2:36</td>\n",
              "      <td>01.05.2019 2:45</td>\n",
              "    </tr>\n",
              "    <tr>\n",
              "      <th>1</th>\n",
              "      <td>2,78966E+11</td>\n",
              "      <td>United States</td>\n",
              "      <td>iPhone</td>\n",
              "      <td>organic</td>\n",
              "      <td>01.05.2019 4:46</td>\n",
              "      <td>01.05.2019 4:47</td>\n",
              "    </tr>\n",
              "    <tr>\n",
              "      <th>2</th>\n",
              "      <td>5,90706E+11</td>\n",
              "      <td>United States</td>\n",
              "      <td>Mac</td>\n",
              "      <td>organic</td>\n",
              "      <td>01.05.2019 14:09</td>\n",
              "      <td>01.05.2019 15:32</td>\n",
              "    </tr>\n",
              "    <tr>\n",
              "      <th>3</th>\n",
              "      <td>3,26434E+11</td>\n",
              "      <td>United States</td>\n",
              "      <td>Android</td>\n",
              "      <td>TipTop</td>\n",
              "      <td>01.05.2019 0:29</td>\n",
              "      <td>01.05.2019 0:54</td>\n",
              "    </tr>\n",
              "    <tr>\n",
              "      <th>4</th>\n",
              "      <td>3,49774E+11</td>\n",
              "      <td>United States</td>\n",
              "      <td>Mac</td>\n",
              "      <td>organic</td>\n",
              "      <td>01.05.2019 3:33</td>\n",
              "      <td>01.05.2019 3:57</td>\n",
              "    </tr>\n",
              "    <tr>\n",
              "      <th>5</th>\n",
              "      <td>43958116050</td>\n",
              "      <td>United States</td>\n",
              "      <td>Android</td>\n",
              "      <td>organic</td>\n",
              "      <td>01.05.2019 9:03</td>\n",
              "      <td>01.05.2019 10:08</td>\n",
              "    </tr>\n",
              "    <tr>\n",
              "      <th>6</th>\n",
              "      <td>1,85365E+11</td>\n",
              "      <td>United States</td>\n",
              "      <td>iPhone</td>\n",
              "      <td>organic</td>\n",
              "      <td>01.05.2019 9:37</td>\n",
              "      <td>01.05.2019 10:00</td>\n",
              "    </tr>\n",
              "    <tr>\n",
              "      <th>7</th>\n",
              "      <td>1,00971E+11</td>\n",
              "      <td>United States</td>\n",
              "      <td>Mac</td>\n",
              "      <td>TipTop</td>\n",
              "      <td>01.05.2019 4:39</td>\n",
              "      <td>01.05.2019 4:57</td>\n",
              "    </tr>\n",
              "    <tr>\n",
              "      <th>8</th>\n",
              "      <td>3,70456E+11</td>\n",
              "      <td>United States</td>\n",
              "      <td>iPhone</td>\n",
              "      <td>organic</td>\n",
              "      <td>01.05.2019 14:44</td>\n",
              "      <td>01.05.2019 15:41</td>\n",
              "    </tr>\n",
              "    <tr>\n",
              "      <th>9</th>\n",
              "      <td>1,41838E+11</td>\n",
              "      <td>United States</td>\n",
              "      <td>Mac</td>\n",
              "      <td>FaceBoom</td>\n",
              "      <td>01.05.2019 6:20</td>\n",
              "      <td>01.05.2019 6:54</td>\n",
              "    </tr>\n",
              "    <tr>\n",
              "      <th>10</th>\n",
              "      <td>9,24309E+11</td>\n",
              "      <td>United States</td>\n",
              "      <td>iPhone</td>\n",
              "      <td>organic</td>\n",
              "      <td>01.05.2019 20:03</td>\n",
              "      <td>01.05.2019 20:19</td>\n",
              "    </tr>\n",
              "    <tr>\n",
              "      <th>11</th>\n",
              "      <td>7,74938E+11</td>\n",
              "      <td>United States</td>\n",
              "      <td>iPhone</td>\n",
              "      <td>MediaTornado</td>\n",
              "      <td>01.05.2019 14:01</td>\n",
              "      <td>01.05.2019 14:29</td>\n",
              "    </tr>\n",
              "    <tr>\n",
              "      <th>12</th>\n",
              "      <td>2,44879E+11</td>\n",
              "      <td>United States</td>\n",
              "      <td>iPhone</td>\n",
              "      <td>MediaTornado</td>\n",
              "      <td>01.05.2019 1:59</td>\n",
              "      <td>01.05.2019 2:21</td>\n",
              "    </tr>\n",
              "    <tr>\n",
              "      <th>13</th>\n",
              "      <td>1,57877E+11</td>\n",
              "      <td>United States</td>\n",
              "      <td>Mac</td>\n",
              "      <td>organic</td>\n",
              "      <td>01.05.2019 10:25</td>\n",
              "      <td>01.05.2019 10:35</td>\n",
              "    </tr>\n",
              "    <tr>\n",
              "      <th>14</th>\n",
              "      <td>5,24629E+11</td>\n",
              "      <td>United States</td>\n",
              "      <td>Mac</td>\n",
              "      <td>organic</td>\n",
              "      <td>01.05.2019 17:06</td>\n",
              "      <td>01.05.2019 18:05</td>\n",
              "    </tr>\n",
              "    <tr>\n",
              "      <th>15</th>\n",
              "      <td>1,36227E+11</td>\n",
              "      <td>United States</td>\n",
              "      <td>PC</td>\n",
              "      <td>organic</td>\n",
              "      <td>01.05.2019 19:34</td>\n",
              "      <td>01.05.2019 19:39</td>\n",
              "    </tr>\n",
              "    <tr>\n",
              "      <th>16</th>\n",
              "      <td>6,84979E+11</td>\n",
              "      <td>United States</td>\n",
              "      <td>iPhone</td>\n",
              "      <td>TipTop</td>\n",
              "      <td>01.05.2019 1:51</td>\n",
              "      <td>01.05.2019 2:12</td>\n",
              "    </tr>\n",
              "    <tr>\n",
              "      <th>17</th>\n",
              "      <td>9,05776E+11</td>\n",
              "      <td>United States</td>\n",
              "      <td>iPhone</td>\n",
              "      <td>organic</td>\n",
              "      <td>01.05.2019 14:26</td>\n",
              "      <td>01.05.2019 14:35</td>\n",
              "    </tr>\n",
              "    <tr>\n",
              "      <th>18</th>\n",
              "      <td>15174034813</td>\n",
              "      <td>United States</td>\n",
              "      <td>iPhone</td>\n",
              "      <td>FaceBoom</td>\n",
              "      <td>01.05.2019 15:34</td>\n",
              "      <td>01.05.2019 15:56</td>\n",
              "    </tr>\n",
              "    <tr>\n",
              "      <th>19</th>\n",
              "      <td>1,88246E+11</td>\n",
              "      <td>United States</td>\n",
              "      <td>Android</td>\n",
              "      <td>FaceBoom</td>\n",
              "      <td>01.05.2019 23:09</td>\n",
              "      <td>01.05.2019 23:21</td>\n",
              "    </tr>\n",
              "  </tbody>\n",
              "</table>\n",
              "</div>"
            ],
            "text/plain": [
              "        User_Id         Region   Device       Channel     Session_Start  \\\n",
              "0   9,81449E+11  United States   iPhone       organic   01.05.2019 2:36   \n",
              "1   2,78966E+11  United States   iPhone       organic   01.05.2019 4:46   \n",
              "2   5,90706E+11  United States      Mac       organic  01.05.2019 14:09   \n",
              "3   3,26434E+11  United States  Android        TipTop   01.05.2019 0:29   \n",
              "4   3,49774E+11  United States      Mac       organic   01.05.2019 3:33   \n",
              "5   43958116050  United States  Android       organic   01.05.2019 9:03   \n",
              "6   1,85365E+11  United States   iPhone       organic   01.05.2019 9:37   \n",
              "7   1,00971E+11  United States      Mac        TipTop   01.05.2019 4:39   \n",
              "8   3,70456E+11  United States   iPhone       organic  01.05.2019 14:44   \n",
              "9   1,41838E+11  United States      Mac      FaceBoom   01.05.2019 6:20   \n",
              "10  9,24309E+11  United States   iPhone       organic  01.05.2019 20:03   \n",
              "11  7,74938E+11  United States   iPhone  MediaTornado  01.05.2019 14:01   \n",
              "12  2,44879E+11  United States   iPhone  MediaTornado   01.05.2019 1:59   \n",
              "13  1,57877E+11  United States      Mac       organic  01.05.2019 10:25   \n",
              "14  5,24629E+11  United States      Mac       organic  01.05.2019 17:06   \n",
              "15  1,36227E+11  United States       PC       organic  01.05.2019 19:34   \n",
              "16  6,84979E+11  United States   iPhone        TipTop   01.05.2019 1:51   \n",
              "17  9,05776E+11  United States   iPhone       organic  01.05.2019 14:26   \n",
              "18  15174034813  United States   iPhone      FaceBoom  01.05.2019 15:34   \n",
              "19  1,88246E+11  United States  Android      FaceBoom  01.05.2019 23:09   \n",
              "\n",
              "         SESSION_End  \n",
              "0    01.05.2019 2:45  \n",
              "1    01.05.2019 4:47  \n",
              "2   01.05.2019 15:32  \n",
              "3    01.05.2019 0:54  \n",
              "4    01.05.2019 3:57  \n",
              "5   01.05.2019 10:08  \n",
              "6   01.05.2019 10:00  \n",
              "7    01.05.2019 4:57  \n",
              "8   01.05.2019 15:41  \n",
              "9    01.05.2019 6:54  \n",
              "10  01.05.2019 20:19  \n",
              "11  01.05.2019 14:29  \n",
              "12   01.05.2019 2:21  \n",
              "13  01.05.2019 10:35  \n",
              "14  01.05.2019 18:05  \n",
              "15  01.05.2019 19:39  \n",
              "16   01.05.2019 2:12  \n",
              "17  01.05.2019 14:35  \n",
              "18  01.05.2019 15:56  \n",
              "19  01.05.2019 23:21  "
            ]
          },
          "execution_count": 6,
          "metadata": {},
          "output_type": "execute_result"
        }
      ],
      "source": [
        "df.head(20)"
      ]
    },
    {
      "cell_type": "markdown",
      "metadata": {
        "id": "Ze-lXxLMhpWv"
      },
      "source": [
        "2.2 Оценка данных с помощью метода info."
      ]
    },
    {
      "cell_type": "code",
      "execution_count": 7,
      "metadata": {
        "id": "bjhngmaLiGM-"
      },
      "outputs": [
        {
          "name": "stdout",
          "output_type": "stream",
          "text": [
            "<class 'pandas.core.frame.DataFrame'>\n",
            "RangeIndex: 957 entries, 0 to 956\n",
            "Data columns (total 6 columns):\n",
            " #   Column         Non-Null Count  Dtype \n",
            "---  ------         --------------  ----- \n",
            " 0   User_Id        957 non-null    object\n",
            " 1   Region         956 non-null    object\n",
            " 2   Device         955 non-null    object\n",
            " 3   Channel        957 non-null    object\n",
            " 4   Session_Start  955 non-null    object\n",
            " 5   SESSION_End    955 non-null    object\n",
            "dtypes: object(6)\n",
            "memory usage: 45.0+ KB\n"
          ]
        }
      ],
      "source": [
        "df.info()"
      ]
    },
    {
      "cell_type": "markdown",
      "metadata": {},
      "source": [
        "Изменяю формат данных в столбцах Session_Start и SESSION_End на datetime. "
      ]
    },
    {
      "cell_type": "code",
      "execution_count": 8,
      "metadata": {},
      "outputs": [
        {
          "name": "stdout",
          "output_type": "stream",
          "text": [
            "<class 'pandas.core.frame.DataFrame'>\n",
            "RangeIndex: 957 entries, 0 to 956\n",
            "Data columns (total 6 columns):\n",
            " #   Column         Non-Null Count  Dtype         \n",
            "---  ------         --------------  -----         \n",
            " 0   User_Id        957 non-null    object        \n",
            " 1   Region         956 non-null    object        \n",
            " 2   Device         955 non-null    object        \n",
            " 3   Channel        957 non-null    object        \n",
            " 4   Session_Start  955 non-null    datetime64[ns]\n",
            " 5   SESSION_End    955 non-null    datetime64[ns]\n",
            "dtypes: datetime64[ns](2), object(4)\n",
            "memory usage: 45.0+ KB\n"
          ]
        }
      ],
      "source": [
        "df['Session_Start'] = pd.to_datetime(df['Session_Start'], format='%d.%m.%Y %H:%M')\n",
        "df['SESSION_End'] = pd.to_datetime(df['SESSION_End'], format='%d.%m.%Y %H:%M')\n",
        "\n",
        "df.info()"
      ]
    },
    {
      "cell_type": "markdown",
      "metadata": {
        "id": "06PDq9DAiMAY"
      },
      "source": [
        "2.3 Оценка данных с помощью метода describe."
      ]
    },
    {
      "cell_type": "code",
      "execution_count": 9,
      "metadata": {
        "id": "cTVFwzO1jQfN"
      },
      "outputs": [
        {
          "data": {
            "text/html": [
              "<div>\n",
              "<style scoped>\n",
              "    .dataframe tbody tr th:only-of-type {\n",
              "        vertical-align: middle;\n",
              "    }\n",
              "\n",
              "    .dataframe tbody tr th {\n",
              "        vertical-align: top;\n",
              "    }\n",
              "\n",
              "    .dataframe thead th {\n",
              "        text-align: right;\n",
              "    }\n",
              "</style>\n",
              "<table border=\"1\" class=\"dataframe\">\n",
              "  <thead>\n",
              "    <tr style=\"text-align: right;\">\n",
              "      <th></th>\n",
              "      <th>Session_Start</th>\n",
              "      <th>SESSION_End</th>\n",
              "    </tr>\n",
              "  </thead>\n",
              "  <tbody>\n",
              "    <tr>\n",
              "      <th>count</th>\n",
              "      <td>955</td>\n",
              "      <td>955</td>\n",
              "    </tr>\n",
              "    <tr>\n",
              "      <th>mean</th>\n",
              "      <td>2019-05-02 08:11:42.596858880</td>\n",
              "      <td>2019-05-02 08:40:54.534031616</td>\n",
              "    </tr>\n",
              "    <tr>\n",
              "      <th>min</th>\n",
              "      <td>2019-05-01 00:06:00</td>\n",
              "      <td>2019-05-01 00:19:00</td>\n",
              "    </tr>\n",
              "    <tr>\n",
              "      <th>25%</th>\n",
              "      <td>2019-05-01 20:21:30</td>\n",
              "      <td>2019-05-01 20:49:00</td>\n",
              "    </tr>\n",
              "    <tr>\n",
              "      <th>50%</th>\n",
              "      <td>2019-05-02 08:08:00</td>\n",
              "      <td>2019-05-02 08:34:00</td>\n",
              "    </tr>\n",
              "    <tr>\n",
              "      <th>75%</th>\n",
              "      <td>2019-05-02 18:42:30</td>\n",
              "      <td>2019-05-02 18:57:30</td>\n",
              "    </tr>\n",
              "    <tr>\n",
              "      <th>max</th>\n",
              "      <td>2019-05-04 23:46:00</td>\n",
              "      <td>2019-05-04 23:52:00</td>\n",
              "    </tr>\n",
              "  </tbody>\n",
              "</table>\n",
              "</div>"
            ],
            "text/plain": [
              "                       Session_Start                    SESSION_End\n",
              "count                            955                            955\n",
              "mean   2019-05-02 08:11:42.596858880  2019-05-02 08:40:54.534031616\n",
              "min              2019-05-01 00:06:00            2019-05-01 00:19:00\n",
              "25%              2019-05-01 20:21:30            2019-05-01 20:49:00\n",
              "50%              2019-05-02 08:08:00            2019-05-02 08:34:00\n",
              "75%              2019-05-02 18:42:30            2019-05-02 18:57:30\n",
              "max              2019-05-04 23:46:00            2019-05-04 23:52:00"
            ]
          },
          "execution_count": 9,
          "metadata": {},
          "output_type": "execute_result"
        }
      ],
      "source": [
        "df.describe()"
      ]
    },
    {
      "cell_type": "markdown",
      "metadata": {},
      "source": [
        "Метод describe позволяет получить информацию о числовых столбцах: количество значений в них, медиану, минимальное и максимальное значения и другие характеристики. Можно понять, что: пиковая активность - утром около 8:00, большинство сессий приходятся на 1-2 мая."
      ]
    },
    {
      "cell_type": "markdown",
      "metadata": {
        "id": "JTbo0IGDiHxn"
      },
      "source": [
        " 2.4 Оценка названий столбцов"
      ]
    },
    {
      "cell_type": "code",
      "execution_count": 10,
      "metadata": {
        "id": "9NEyi2Odik3e"
      },
      "outputs": [
        {
          "data": {
            "text/plain": [
              "Index(['User_Id', 'Region', 'Device', 'Channel', 'Session_Start',\n",
              "       'SESSION_End'],\n",
              "      dtype='object')"
            ]
          },
          "execution_count": 10,
          "metadata": {},
          "output_type": "execute_result"
        }
      ],
      "source": [
        "df.columns"
      ]
    },
    {
      "cell_type": "markdown",
      "metadata": {},
      "source": [
        "Для удобства меняю название столбца SESSION_End на Session_End"
      ]
    },
    {
      "cell_type": "code",
      "execution_count": 11,
      "metadata": {},
      "outputs": [
        {
          "data": {
            "text/plain": [
              "Index(['User_Id', 'Region', 'Device', 'Channel', 'Session_Start',\n",
              "       'Session_End'],\n",
              "      dtype='object')"
            ]
          },
          "execution_count": 11,
          "metadata": {},
          "output_type": "execute_result"
        }
      ],
      "source": [
        "df = df.rename(columns={'SESSION_End': 'Session_End'})\n",
        "df.columns"
      ]
    },
    {
      "cell_type": "markdown",
      "metadata": {
        "id": "V0tLQcyrjnA_"
      },
      "source": [
        "### 3. Проверка пропусков"
      ]
    },
    {
      "cell_type": "code",
      "execution_count": 12,
      "metadata": {
        "id": "xuTz-Avjj9AW"
      },
      "outputs": [
        {
          "name": "stdout",
          "output_type": "stream",
          "text": [
            "User_Id          0\n",
            "Region           1\n",
            "Device           2\n",
            "Channel          0\n",
            "Session_Start    2\n",
            "Session_End      2\n",
            "dtype: int64\n"
          ]
        }
      ],
      "source": [
        "print(df.isna().sum())"
      ]
    },
    {
      "cell_type": "markdown",
      "metadata": {},
      "source": [
        "Видно, что имеются пропуски в колонках Region, Device, Session_Start и Session_End. "
      ]
    },
    {
      "cell_type": "code",
      "execution_count": 13,
      "metadata": {},
      "outputs": [
        {
          "name": "stdout",
          "output_type": "stream",
          "text": [
            "<class 'pandas.core.frame.DataFrame'>\n",
            "Index: 954 entries, 0 to 956\n",
            "Data columns (total 6 columns):\n",
            " #   Column         Non-Null Count  Dtype         \n",
            "---  ------         --------------  -----         \n",
            " 0   User_Id        954 non-null    object        \n",
            " 1   Region         954 non-null    object        \n",
            " 2   Device         954 non-null    object        \n",
            " 3   Channel        954 non-null    object        \n",
            " 4   Session_Start  954 non-null    datetime64[ns]\n",
            " 5   Session_End    954 non-null    datetime64[ns]\n",
            "dtypes: datetime64[ns](2), object(4)\n",
            "memory usage: 52.2+ KB\n"
          ]
        }
      ],
      "source": [
        "df = df.dropna(subset=['Region', 'Device', 'Session_Start','Session_End']) \n",
        "df.info()"
      ]
    },
    {
      "cell_type": "markdown",
      "metadata": {},
      "source": [
        "Было принято решение удалить строки, в которых присутствуют пропуски. Удалились только 3 строки, значит в двух из них не было информации ни об устроустве пользователя, ни о времени сессии. Это важные данные для исследования, без них запись становится бесполезной."
      ]
    },
    {
      "cell_type": "markdown",
      "metadata": {
        "id": "kkyrXXHikEXk"
      },
      "source": [
        "### 4. Проверка дубликатов"
      ]
    },
    {
      "cell_type": "markdown",
      "metadata": {
        "id": "ImqHvr3okIQ6"
      },
      "source": [
        "#### Проверка явных дубликатов"
      ]
    },
    {
      "cell_type": "code",
      "execution_count": 14,
      "metadata": {
        "id": "qu1oh-e5lDZ1"
      },
      "outputs": [
        {
          "data": {
            "text/html": [
              "<div>\n",
              "<style scoped>\n",
              "    .dataframe tbody tr th:only-of-type {\n",
              "        vertical-align: middle;\n",
              "    }\n",
              "\n",
              "    .dataframe tbody tr th {\n",
              "        vertical-align: top;\n",
              "    }\n",
              "\n",
              "    .dataframe thead th {\n",
              "        text-align: right;\n",
              "    }\n",
              "</style>\n",
              "<table border=\"1\" class=\"dataframe\">\n",
              "  <thead>\n",
              "    <tr style=\"text-align: right;\">\n",
              "      <th></th>\n",
              "      <th>User_Id</th>\n",
              "      <th>Region</th>\n",
              "      <th>Device</th>\n",
              "      <th>Channel</th>\n",
              "      <th>Session_Start</th>\n",
              "      <th>Session_End</th>\n",
              "    </tr>\n",
              "  </thead>\n",
              "  <tbody>\n",
              "    <tr>\n",
              "      <th>480</th>\n",
              "      <td>1,79085E+11</td>\n",
              "      <td>United States</td>\n",
              "      <td>Mac</td>\n",
              "      <td>organic</td>\n",
              "      <td>2019-05-01 07:27:00</td>\n",
              "      <td>2019-05-01 07:49:00</td>\n",
              "    </tr>\n",
              "    <tr>\n",
              "      <th>481</th>\n",
              "      <td>1,79085E+11</td>\n",
              "      <td>United States</td>\n",
              "      <td>Mac</td>\n",
              "      <td>organic</td>\n",
              "      <td>2019-05-01 07:27:00</td>\n",
              "      <td>2019-05-01 07:49:00</td>\n",
              "    </tr>\n",
              "  </tbody>\n",
              "</table>\n",
              "</div>"
            ],
            "text/plain": [
              "         User_Id         Region Device  Channel       Session_Start  \\\n",
              "480  1,79085E+11  United States    Mac  organic 2019-05-01 07:27:00   \n",
              "481  1,79085E+11  United States    Mac  organic 2019-05-01 07:27:00   \n",
              "\n",
              "            Session_End  \n",
              "480 2019-05-01 07:49:00  \n",
              "481 2019-05-01 07:49:00  "
            ]
          },
          "execution_count": 14,
          "metadata": {},
          "output_type": "execute_result"
        }
      ],
      "source": [
        "(df[df.duplicated()])"
      ]
    },
    {
      "cell_type": "markdown",
      "metadata": {},
      "source": [
        "Использую метод drop_duplicates для удаления строк-дублтикатов. Строки удаляются вместе с индексами, с помощью reset_index создаётся новый датафрейм, в котором не будет пропусков в индексах, drop=True чтобы не создавался новый столбец index."
      ]
    },
    {
      "cell_type": "code",
      "execution_count": 15,
      "metadata": {
        "id": "ntArgvChkK26"
      },
      "outputs": [],
      "source": [
        "df=df.drop_duplicates().reset_index(drop=True)"
      ]
    },
    {
      "cell_type": "markdown",
      "metadata": {
        "id": "VeHTMcOmkLSw"
      },
      "source": [
        "#### Проверка неявных дубликатов"
      ]
    },
    {
      "cell_type": "markdown",
      "metadata": {},
      "source": [
        "С помощью метода unique найдены уникальные значения в каждом столбце."
      ]
    },
    {
      "cell_type": "code",
      "execution_count": 16,
      "metadata": {
        "id": "-uOPKHlVlGo8"
      },
      "outputs": [
        {
          "name": "stdout",
          "output_type": "stream",
          "text": [
            "Region : ['United States' 'USA'] \n",
            "\n",
            "Device : ['iPhone' 'Mac' 'Android' 'PC' 'MAC' 'IPHONE'] \n",
            "\n",
            "Channel : ['organic' 'TipTop' 'FaceBoom' 'MediaTornado'] \n",
            "\n"
          ]
        }
      ],
      "source": [
        "check=['Region', 'Device', 'Channel']\n",
        "for x in check:\n",
        "    print(x,':',df[x].unique(),'\\n')"
      ]
    },
    {
      "cell_type": "markdown",
      "metadata": {},
      "source": [
        "В столбце Region заменим United States на USA.\n",
        "В столбце Device уберем caps lock."
      ]
    },
    {
      "cell_type": "code",
      "execution_count": 17,
      "metadata": {
        "id": "89tMFEQ2k_M7"
      },
      "outputs": [],
      "source": [
        "df['Region'] = df['Region'].replace('United States', 'USA')\n",
        "df['Device'] = df['Device'].replace('MAC', 'Mac')\n",
        "df['Device'] = df['Device'].replace('IPHONE', 'iPhone')"
      ]
    },
    {
      "cell_type": "markdown",
      "metadata": {},
      "source": [
        "Далее произведем проверку дат. Найдем самые старые и самые новые даты, сессии с отрицатольной продолжительностью. Таких дат не оказалось."
      ]
    },
    {
      "cell_type": "code",
      "execution_count": 18,
      "metadata": {},
      "outputs": [
        {
          "name": "stdout",
          "output_type": "stream",
          "text": [
            "min_date 2019-05-01 00:06:00\n",
            "max_date 2019-05-04 23:46:00\n",
            "min_date 2019-05-01 00:19:00\n",
            "max_date 2019-05-04 23:52:00\n",
            "Сессии с end < start: 0\n"
          ]
        }
      ],
      "source": [
        "print('min_date', df['Session_Start'].min())\n",
        "print('max_date', df['Session_Start'].max())\n",
        "\n",
        "print('min_date', df['Session_End'].min())\n",
        "print('max_date', df['Session_End'].max())\n",
        "\n",
        "invalid_sessions = df[df['Session_End'] < df['Session_Start']]\n",
        "print(\"Сессии с end < start:\", len(invalid_sessions))"
      ]
    },
    {
      "cell_type": "markdown",
      "metadata": {
        "id": "lzr0SgqlnmHy"
      },
      "source": [
        "### 5. Группировка данных"
      ]
    },
    {
      "cell_type": "markdown",
      "metadata": {
        "id": "QG_dbwzfmZoS"
      },
      "source": [
        "#### Задание 1"
      ]
    },
    {
      "cell_type": "markdown",
      "metadata": {
        "id": "CyCKTB4DmciW"
      },
      "source": [
        "Группировка - region и количество устройств (device )."
      ]
    },
    {
      "cell_type": "code",
      "execution_count": 26,
      "metadata": {
        "id": "tp8Bl1gumYlI"
      },
      "outputs": [
        {
          "data": {
            "text/plain": [
              "Region  Device \n",
              "USA     Android    185\n",
              "        Mac        242\n",
              "        PC         103\n",
              "        iPhone     422\n",
              "Name: User_Id, dtype: int64"
            ]
          },
          "execution_count": 26,
          "metadata": {},
          "output_type": "execute_result"
        }
      ],
      "source": [
        "\n",
        "df.groupby(['Region', 'Device'])['User_Id'].count()"
      ]
    },
    {
      "cell_type": "markdown",
      "metadata": {},
      "source": [
        "Проверим количество записей. 185 + 242 + 103 + 422 = 952"
      ]
    },
    {
      "cell_type": "code",
      "execution_count": 28,
      "metadata": {},
      "outputs": [
        {
          "name": "stdout",
          "output_type": "stream",
          "text": [
            "<class 'pandas.core.frame.DataFrame'>\n",
            "RangeIndex: 952 entries, 0 to 951\n",
            "Data columns (total 6 columns):\n",
            " #   Column         Non-Null Count  Dtype         \n",
            "---  ------         --------------  -----         \n",
            " 0   User_Id        952 non-null    object        \n",
            " 1   Region         952 non-null    object        \n",
            " 2   Device         952 non-null    object        \n",
            " 3   Channel        952 non-null    object        \n",
            " 4   Session_Start  952 non-null    datetime64[ns]\n",
            " 5   Session_End    952 non-null    datetime64[ns]\n",
            "dtypes: datetime64[ns](2), object(4)\n",
            "memory usage: 44.8+ KB\n"
          ]
        }
      ],
      "source": [
        "df.info()"
      ]
    },
    {
      "cell_type": "markdown",
      "metadata": {},
      "source": [
        "Всего записей 952 - все верно!"
      ]
    },
    {
      "cell_type": "markdown",
      "metadata": {},
      "source": [
        "Из данной группировки можно сделать вывод, что все пользователи из США и в большинстве своем пользуются iPhone."
      ]
    },
    {
      "cell_type": "markdown",
      "metadata": {
        "id": "j0isGCzEne7a"
      },
      "source": [
        "#### Задание 2"
      ]
    },
    {
      "cell_type": "markdown",
      "metadata": {
        "id": "kE2vLBWbne7a"
      },
      "source": [
        "Группировка - device и количество рекламных источников каждого\n",
        "типа (channel). Создать датафрейм. Переименовать столбец с количеством в\n",
        "“сount”. Отсортировать по убыванию столбца “count”. "
      ]
    },
    {
      "cell_type": "code",
      "execution_count": 34,
      "metadata": {
        "id": "ttn78Zaene7a"
      },
      "outputs": [
        {
          "data": {
            "text/html": [
              "<div>\n",
              "<style scoped>\n",
              "    .dataframe tbody tr th:only-of-type {\n",
              "        vertical-align: middle;\n",
              "    }\n",
              "\n",
              "    .dataframe tbody tr th {\n",
              "        vertical-align: top;\n",
              "    }\n",
              "\n",
              "    .dataframe thead th {\n",
              "        text-align: right;\n",
              "    }\n",
              "</style>\n",
              "<table border=\"1\" class=\"dataframe\">\n",
              "  <thead>\n",
              "    <tr style=\"text-align: right;\">\n",
              "      <th></th>\n",
              "      <th>Device</th>\n",
              "      <th>Channel</th>\n",
              "      <th>Count</th>\n",
              "    </tr>\n",
              "  </thead>\n",
              "  <tbody>\n",
              "    <tr>\n",
              "      <th>0</th>\n",
              "      <td>iPhone</td>\n",
              "      <td>organic</td>\n",
              "      <td>249</td>\n",
              "    </tr>\n",
              "    <tr>\n",
              "      <th>1</th>\n",
              "      <td>Mac</td>\n",
              "      <td>organic</td>\n",
              "      <td>172</td>\n",
              "    </tr>\n",
              "    <tr>\n",
              "      <th>2</th>\n",
              "      <td>Android</td>\n",
              "      <td>organic</td>\n",
              "      <td>115</td>\n",
              "    </tr>\n",
              "    <tr>\n",
              "      <th>3</th>\n",
              "      <td>iPhone</td>\n",
              "      <td>TipTop</td>\n",
              "      <td>78</td>\n",
              "    </tr>\n",
              "    <tr>\n",
              "      <th>4</th>\n",
              "      <td>PC</td>\n",
              "      <td>organic</td>\n",
              "      <td>72</td>\n",
              "    </tr>\n",
              "    <tr>\n",
              "      <th>5</th>\n",
              "      <td>iPhone</td>\n",
              "      <td>FaceBoom</td>\n",
              "      <td>65</td>\n",
              "    </tr>\n",
              "    <tr>\n",
              "      <th>6</th>\n",
              "      <td>Mac</td>\n",
              "      <td>FaceBoom</td>\n",
              "      <td>36</td>\n",
              "    </tr>\n",
              "    <tr>\n",
              "      <th>7</th>\n",
              "      <td>Android</td>\n",
              "      <td>FaceBoom</td>\n",
              "      <td>33</td>\n",
              "    </tr>\n",
              "    <tr>\n",
              "      <th>8</th>\n",
              "      <td>iPhone</td>\n",
              "      <td>MediaTornado</td>\n",
              "      <td>30</td>\n",
              "    </tr>\n",
              "    <tr>\n",
              "      <th>9</th>\n",
              "      <td>Android</td>\n",
              "      <td>TipTop</td>\n",
              "      <td>26</td>\n",
              "    </tr>\n",
              "    <tr>\n",
              "      <th>10</th>\n",
              "      <td>Mac</td>\n",
              "      <td>TipTop</td>\n",
              "      <td>24</td>\n",
              "    </tr>\n",
              "    <tr>\n",
              "      <th>11</th>\n",
              "      <td>PC</td>\n",
              "      <td>FaceBoom</td>\n",
              "      <td>15</td>\n",
              "    </tr>\n",
              "    <tr>\n",
              "      <th>12</th>\n",
              "      <td>PC</td>\n",
              "      <td>TipTop</td>\n",
              "      <td>14</td>\n",
              "    </tr>\n",
              "    <tr>\n",
              "      <th>13</th>\n",
              "      <td>Android</td>\n",
              "      <td>MediaTornado</td>\n",
              "      <td>11</td>\n",
              "    </tr>\n",
              "    <tr>\n",
              "      <th>14</th>\n",
              "      <td>Mac</td>\n",
              "      <td>MediaTornado</td>\n",
              "      <td>10</td>\n",
              "    </tr>\n",
              "    <tr>\n",
              "      <th>15</th>\n",
              "      <td>PC</td>\n",
              "      <td>MediaTornado</td>\n",
              "      <td>2</td>\n",
              "    </tr>\n",
              "  </tbody>\n",
              "</table>\n",
              "</div>"
            ],
            "text/plain": [
              "     Device       Channel  Count\n",
              "0    iPhone       organic    249\n",
              "1       Mac       organic    172\n",
              "2   Android       organic    115\n",
              "3    iPhone        TipTop     78\n",
              "4        PC       organic     72\n",
              "5    iPhone      FaceBoom     65\n",
              "6       Mac      FaceBoom     36\n",
              "7   Android      FaceBoom     33\n",
              "8    iPhone  MediaTornado     30\n",
              "9   Android        TipTop     26\n",
              "10      Mac        TipTop     24\n",
              "11       PC      FaceBoom     15\n",
              "12       PC        TipTop     14\n",
              "13  Android  MediaTornado     11\n",
              "14      Mac  MediaTornado     10\n",
              "15       PC  MediaTornado      2"
            ]
          },
          "execution_count": 34,
          "metadata": {},
          "output_type": "execute_result"
        }
      ],
      "source": [
        "group_df=df.groupby(['Device', 'Channel'])['User_Id'].count().sort_values(ascending=False).reset_index()\n",
        "group_df=group_df.rename(columns={'User_Id':'Count'})\n",
        "group_df"
      ]
    },
    {
      "cell_type": "markdown",
      "metadata": {
        "id": "HCyyeAu6ne7a"
      },
      "source": [
        "Посмотрев на группировку можно сказать, что самым эффиктивным источником привлечения клиентов является реклама в ресурсе organic."
      ]
    },
    {
      "cell_type": "markdown",
      "metadata": {
        "id": "_3fHGp64nhUJ"
      },
      "source": [
        "#### Задание 3"
      ]
    },
    {
      "cell_type": "markdown",
      "metadata": {
        "id": "_Bc4ehyKnhUJ"
      },
      "source": [
        "Сводная таблица (pivot_table) - количество пользователей для каждого\n",
        "канала (channel). Отсортировать по убыванию количества.\n"
      ]
    },
    {
      "cell_type": "code",
      "execution_count": 36,
      "metadata": {
        "id": "siDovPvQnhUJ"
      },
      "outputs": [
        {
          "data": {
            "text/html": [
              "<div>\n",
              "<style scoped>\n",
              "    .dataframe tbody tr th:only-of-type {\n",
              "        vertical-align: middle;\n",
              "    }\n",
              "\n",
              "    .dataframe tbody tr th {\n",
              "        vertical-align: top;\n",
              "    }\n",
              "\n",
              "    .dataframe thead th {\n",
              "        text-align: right;\n",
              "    }\n",
              "</style>\n",
              "<table border=\"1\" class=\"dataframe\">\n",
              "  <thead>\n",
              "    <tr style=\"text-align: right;\">\n",
              "      <th></th>\n",
              "      <th>User_Id</th>\n",
              "    </tr>\n",
              "    <tr>\n",
              "      <th>Channel</th>\n",
              "      <th></th>\n",
              "    </tr>\n",
              "  </thead>\n",
              "  <tbody>\n",
              "    <tr>\n",
              "      <th>organic</th>\n",
              "      <td>608</td>\n",
              "    </tr>\n",
              "    <tr>\n",
              "      <th>FaceBoom</th>\n",
              "      <td>149</td>\n",
              "    </tr>\n",
              "    <tr>\n",
              "      <th>TipTop</th>\n",
              "      <td>142</td>\n",
              "    </tr>\n",
              "    <tr>\n",
              "      <th>MediaTornado</th>\n",
              "      <td>53</td>\n",
              "    </tr>\n",
              "  </tbody>\n",
              "</table>\n",
              "</div>"
            ],
            "text/plain": [
              "              User_Id\n",
              "Channel              \n",
              "organic           608\n",
              "FaceBoom          149\n",
              "TipTop            142\n",
              "MediaTornado       53"
            ]
          },
          "execution_count": 36,
          "metadata": {},
          "output_type": "execute_result"
        }
      ],
      "source": [
        "pt=df.pivot_table(index='Channel', values='User_Id', aggfunc='count').sort_values(by='User_Id', ascending=False)\n",
        "pt"
      ]
    },
    {
      "cell_type": "markdown",
      "metadata": {
        "id": "1-vw8iyUnhUK"
      },
      "source": [
        "Данная группировка подтверждает вывод о том, что самым эффиктивным источником клиентов является реклама в ресурсе organic."
      ]
    },
    {
      "cell_type": "markdown",
      "metadata": {
        "id": "FOlw74xCniNo"
      },
      "source": [
        "#### Задание 4"
      ]
    },
    {
      "cell_type": "markdown",
      "metadata": {
        "id": "4tvYwT25niNq"
      },
      "source": [
        "Сводная таблица (pivot_table) - количество пользователей для каждого\n",
        "устройства (device) - строки и канала - столбцы. Отсортировать по возрастанию\n",
        "столбца device.\n"
      ]
    },
    {
      "cell_type": "code",
      "execution_count": 40,
      "metadata": {
        "id": "TfJ719g6niNq"
      },
      "outputs": [
        {
          "data": {
            "text/html": [
              "<div>\n",
              "<style scoped>\n",
              "    .dataframe tbody tr th:only-of-type {\n",
              "        vertical-align: middle;\n",
              "    }\n",
              "\n",
              "    .dataframe tbody tr th {\n",
              "        vertical-align: top;\n",
              "    }\n",
              "\n",
              "    .dataframe thead th {\n",
              "        text-align: right;\n",
              "    }\n",
              "</style>\n",
              "<table border=\"1\" class=\"dataframe\">\n",
              "  <thead>\n",
              "    <tr style=\"text-align: right;\">\n",
              "      <th>Channel</th>\n",
              "      <th>FaceBoom</th>\n",
              "      <th>MediaTornado</th>\n",
              "      <th>TipTop</th>\n",
              "      <th>organic</th>\n",
              "    </tr>\n",
              "    <tr>\n",
              "      <th>Device</th>\n",
              "      <th></th>\n",
              "      <th></th>\n",
              "      <th></th>\n",
              "      <th></th>\n",
              "    </tr>\n",
              "  </thead>\n",
              "  <tbody>\n",
              "    <tr>\n",
              "      <th>Android</th>\n",
              "      <td>33</td>\n",
              "      <td>11</td>\n",
              "      <td>26</td>\n",
              "      <td>115</td>\n",
              "    </tr>\n",
              "    <tr>\n",
              "      <th>Mac</th>\n",
              "      <td>36</td>\n",
              "      <td>10</td>\n",
              "      <td>24</td>\n",
              "      <td>172</td>\n",
              "    </tr>\n",
              "    <tr>\n",
              "      <th>PC</th>\n",
              "      <td>15</td>\n",
              "      <td>2</td>\n",
              "      <td>14</td>\n",
              "      <td>72</td>\n",
              "    </tr>\n",
              "    <tr>\n",
              "      <th>iPhone</th>\n",
              "      <td>65</td>\n",
              "      <td>30</td>\n",
              "      <td>78</td>\n",
              "      <td>249</td>\n",
              "    </tr>\n",
              "  </tbody>\n",
              "</table>\n",
              "</div>"
            ],
            "text/plain": [
              "Channel  FaceBoom  MediaTornado  TipTop  organic\n",
              "Device                                          \n",
              "Android        33            11      26      115\n",
              "Mac            36            10      24      172\n",
              "PC             15             2      14       72\n",
              "iPhone         65            30      78      249"
            ]
          },
          "execution_count": 40,
          "metadata": {},
          "output_type": "execute_result"
        }
      ],
      "source": [
        "pt2=df.pivot_table(index='Device', columns='Channel', values='User_Id', aggfunc='count').sort_values(by='Device')\n",
        "pt2"
      ]
    },
    {
      "cell_type": "markdown",
      "metadata": {
        "id": "yqJqvk5qniNr"
      },
      "source": [
        "Наблюдается четкая корреляция между типом устройства и предпочтениями по каналам привлечения."
      ]
    },
    {
      "cell_type": "markdown",
      "metadata": {
        "id": "TpnXb6gip3S8"
      },
      "source": [
        "### Вывод"
      ]
    },
    {
      "cell_type": "markdown",
      "metadata": {
        "id": "nqLa096jM1Z8"
      },
      "source": [
        "В ходе лабараторной работы я анализировала датафрейм visits.csv. В датафрейме содержатся записи о посещении клиентами сайта, их регионе, устройстве и канале перехода на сайт. Для начала я произвела предварительный анализ. Я изменила названия столбцов, установила соответствующий для столбцов тип данных (datetime, object). Нашла пропуски в строках и устранила их самым оптимальным способом - путём удаления строк. Далее удалила явные дубликаты методом drop_duplicates. Путём переименования удалила неявные дубликаты. Проверила записи на несуществующие даты и длины сессий. \n",
        "Были сделаны две группировки идве сводные таблицы, которые наглядно демонстрируют, что все пользователи из США и в большинстве своем пользуются iPhone и самым эффиктивным источником привлечения клиентов является реклама в ресурсе organic.\n",
        "\n",
        "\n"
      ]
    },
    {
      "cell_type": "markdown",
      "metadata": {
        "id": "Sn3y7og_vjGG"
      },
      "source": [
        "### Дополнительное задание"
      ]
    },
    {
      "cell_type": "markdown",
      "metadata": {
        "id": "rR6WgHXYvlqD"
      },
      "source": [
        "**`Подробная формулировка задания`**"
      ]
    },
    {
      "cell_type": "code",
      "execution_count": null,
      "metadata": {
        "id": "wG5TGQpevlBq"
      },
      "outputs": [],
      "source": [
        "# код выполнения задания"
      ]
    },
    {
      "cell_type": "markdown",
      "metadata": {
        "id": "y-qpTuhTvon3"
      },
      "source": [
        "***`Подробный вывод по заданию, описание полученных результатов`***"
      ]
    }
  ],
  "metadata": {
    "colab": {
      "provenance": []
    },
    "kernelspec": {
      "display_name": "Python 3",
      "name": "python3"
    },
    "language_info": {
      "codemirror_mode": {
        "name": "ipython",
        "version": 3
      },
      "file_extension": ".py",
      "mimetype": "text/x-python",
      "name": "python",
      "nbconvert_exporter": "python",
      "pygments_lexer": "ipython3",
      "version": "3.12.6"
    }
  },
  "nbformat": 4,
  "nbformat_minor": 0
}
